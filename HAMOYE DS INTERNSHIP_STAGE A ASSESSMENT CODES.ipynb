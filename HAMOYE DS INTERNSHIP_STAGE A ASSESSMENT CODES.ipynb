{
 "cells": [
  {
   "cell_type": "markdown",
   "metadata": {},
   "source": [
    "<h1 align=\"center\">Hamoye Data Science Internship </h1> \n",
    "<h1 align=\"center\"> Stage_A Assessment Codes </h1> "
   ]
  },
  {
   "cell_type": "markdown",
   "metadata": {},
   "source": [
    "---"
   ]
  },
  {
   "cell_type": "markdown",
   "metadata": {},
   "source": [
    "### By  Okwoche, James Ogate\n",
    "#### (Hamoye Data Science Intern - 2020 Cohort)"
   ]
  },
  {
   "cell_type": "markdown",
   "metadata": {},
   "source": [
    "---"
   ]
  },
  {
   "cell_type": "markdown",
   "metadata": {},
   "source": [
    "### Solution to Quiz and Assessment"
   ]
  },
  {
   "cell_type": "code",
   "execution_count": 21,
   "metadata": {},
   "outputs": [],
   "source": [
    "# Importing the necessary Libraries\n",
    "import pandas as pd\n",
    "import numpy as np\n",
    "import matplotlib.pyplot as plt\n",
    "import csv\n",
    "import xlrd # to load the data as excel file incase of lack of internet service"
   ]
  },
  {
   "cell_type": "code",
   "execution_count": 12,
   "metadata": {},
   "outputs": [],
   "source": [
    "#Load the data (directly from the github link) and read it's content\n",
    "url = 'https://raw.githubusercontent.com/OkJam/Hamoye-Data-Science-Internship/79a72abea629018c48cb46715cd9655c3ac4a4a4/fuel_ferc1.csv'\n",
    "Fuel_Data = pd.read_csv(url, error_bad_lines = False) "
   ]
  },
  {
   "cell_type": "markdown",
   "metadata": {},
   "source": [
    "Note: Internet is required to load the data from the url. You can also download the data and load it manually."
   ]
  },
  {
   "cell_type": "code",
   "execution_count": 11,
   "metadata": {},
   "outputs": [
    {
     "data": {
      "text/html": [
       "<div>\n",
       "<style scoped>\n",
       "    .dataframe tbody tr th:only-of-type {\n",
       "        vertical-align: middle;\n",
       "    }\n",
       "\n",
       "    .dataframe tbody tr th {\n",
       "        vertical-align: top;\n",
       "    }\n",
       "\n",
       "    .dataframe thead th {\n",
       "        text-align: right;\n",
       "    }\n",
       "</style>\n",
       "<table border=\"1\" class=\"dataframe\">\n",
       "  <thead>\n",
       "    <tr style=\"text-align: right;\">\n",
       "      <th></th>\n",
       "      <th>record_id</th>\n",
       "      <th>utility_id_ferc1</th>\n",
       "      <th>report_year</th>\n",
       "      <th>plant_name_ferc1</th>\n",
       "      <th>fuel_type_code_pudl</th>\n",
       "      <th>fuel_unit</th>\n",
       "      <th>fuel_qty_burned</th>\n",
       "      <th>fuel_mmbtu_per_unit</th>\n",
       "      <th>fuel_cost_per_unit_burned</th>\n",
       "      <th>fuel_cost_per_unit_delivered</th>\n",
       "      <th>fuel_cost_per_mmbtu</th>\n",
       "    </tr>\n",
       "  </thead>\n",
       "  <tbody>\n",
       "    <tr>\n",
       "      <th>0</th>\n",
       "      <td>f1_fuel_1994_12_1_0_7</td>\n",
       "      <td>1</td>\n",
       "      <td>1994</td>\n",
       "      <td>rockport</td>\n",
       "      <td>coal</td>\n",
       "      <td>ton</td>\n",
       "      <td>5377489</td>\n",
       "      <td>16.590000</td>\n",
       "      <td>18.590</td>\n",
       "      <td>18.530</td>\n",
       "      <td>1.121</td>\n",
       "    </tr>\n",
       "    <tr>\n",
       "      <th>1</th>\n",
       "      <td>f1_fuel_1994_12_1_0_10</td>\n",
       "      <td>1</td>\n",
       "      <td>1994</td>\n",
       "      <td>rockport total plant</td>\n",
       "      <td>coal</td>\n",
       "      <td>ton</td>\n",
       "      <td>10486945</td>\n",
       "      <td>16.592000</td>\n",
       "      <td>18.580</td>\n",
       "      <td>18.530</td>\n",
       "      <td>1.120</td>\n",
       "    </tr>\n",
       "    <tr>\n",
       "      <th>2</th>\n",
       "      <td>f1_fuel_1994_12_2_0_1</td>\n",
       "      <td>2</td>\n",
       "      <td>1994</td>\n",
       "      <td>gorgas</td>\n",
       "      <td>coal</td>\n",
       "      <td>ton</td>\n",
       "      <td>2978683</td>\n",
       "      <td>24.130000</td>\n",
       "      <td>39.720</td>\n",
       "      <td>38.120</td>\n",
       "      <td>1.650</td>\n",
       "    </tr>\n",
       "    <tr>\n",
       "      <th>3</th>\n",
       "      <td>f1_fuel_1994_12_2_0_7</td>\n",
       "      <td>2</td>\n",
       "      <td>1994</td>\n",
       "      <td>barry</td>\n",
       "      <td>coal</td>\n",
       "      <td>ton</td>\n",
       "      <td>3739484</td>\n",
       "      <td>23.950000</td>\n",
       "      <td>47.210</td>\n",
       "      <td>45.990</td>\n",
       "      <td>1.970</td>\n",
       "    </tr>\n",
       "    <tr>\n",
       "      <th>4</th>\n",
       "      <td>f1_fuel_1994_12_2_0_10</td>\n",
       "      <td>2</td>\n",
       "      <td>1994</td>\n",
       "      <td>chickasaw</td>\n",
       "      <td>gas</td>\n",
       "      <td>mcf</td>\n",
       "      <td>40533</td>\n",
       "      <td>1.000000</td>\n",
       "      <td>2.770</td>\n",
       "      <td>2.770</td>\n",
       "      <td>2.570</td>\n",
       "    </tr>\n",
       "    <tr>\n",
       "      <th>5</th>\n",
       "      <td>f1_fuel_1994_12_2_0_13</td>\n",
       "      <td>2</td>\n",
       "      <td>1994</td>\n",
       "      <td>e. c. gaston-unit 5</td>\n",
       "      <td>coal</td>\n",
       "      <td>ton</td>\n",
       "      <td>2124933</td>\n",
       "      <td>23.922000</td>\n",
       "      <td>44.240</td>\n",
       "      <td>43.250</td>\n",
       "      <td>1.850</td>\n",
       "    </tr>\n",
       "    <tr>\n",
       "      <th>6</th>\n",
       "      <td>f1_fuel_1994_12_2_1_1</td>\n",
       "      <td>2</td>\n",
       "      <td>1994</td>\n",
       "      <td>joseph m. farley</td>\n",
       "      <td>nuclear</td>\n",
       "      <td>kgU</td>\n",
       "      <td>2260</td>\n",
       "      <td>0.064094</td>\n",
       "      <td>28.770</td>\n",
       "      <td>0.000</td>\n",
       "      <td>0.450</td>\n",
       "    </tr>\n",
       "    <tr>\n",
       "      <th>7</th>\n",
       "      <td>f1_fuel_1994_12_2_1_10</td>\n",
       "      <td>2</td>\n",
       "      <td>1994</td>\n",
       "      <td>resondent's portion</td>\n",
       "      <td>coal</td>\n",
       "      <td>ton</td>\n",
       "      <td>5372133</td>\n",
       "      <td>24.840000</td>\n",
       "      <td>58.540</td>\n",
       "      <td>55.130</td>\n",
       "      <td>2.360</td>\n",
       "    </tr>\n",
       "    <tr>\n",
       "      <th>8</th>\n",
       "      <td>f1_fuel_1994_12_2_2_10</td>\n",
       "      <td>2</td>\n",
       "      <td>1994</td>\n",
       "      <td>respondent's portion</td>\n",
       "      <td>coal</td>\n",
       "      <td>ton</td>\n",
       "      <td>817520</td>\n",
       "      <td>24.290000</td>\n",
       "      <td>33.970</td>\n",
       "      <td>34.650</td>\n",
       "      <td>1.400</td>\n",
       "    </tr>\n",
       "    <tr>\n",
       "      <th>9</th>\n",
       "      <td>f1_fuel_1994_12_4_0_1</td>\n",
       "      <td>4</td>\n",
       "      <td>1994</td>\n",
       "      <td>units 1-3</td>\n",
       "      <td>coal</td>\n",
       "      <td>ton</td>\n",
       "      <td>1471233</td>\n",
       "      <td>22.484000</td>\n",
       "      <td>28.730</td>\n",
       "      <td>28.110</td>\n",
       "      <td>1.278</td>\n",
       "    </tr>\n",
       "    <tr>\n",
       "      <th>10</th>\n",
       "      <td>f1_fuel_1994_12_4_0_2</td>\n",
       "      <td>4</td>\n",
       "      <td>1994</td>\n",
       "      <td>units 1-3</td>\n",
       "      <td>gas</td>\n",
       "      <td>mcf</td>\n",
       "      <td>262720</td>\n",
       "      <td>1.026000</td>\n",
       "      <td>1.940</td>\n",
       "      <td>1.940</td>\n",
       "      <td>13.900</td>\n",
       "    </tr>\n",
       "    <tr>\n",
       "      <th>11</th>\n",
       "      <td>f1_fuel_1994_12_4_0_4</td>\n",
       "      <td>4</td>\n",
       "      <td>1994</td>\n",
       "      <td>unit 4</td>\n",
       "      <td>coal</td>\n",
       "      <td>ton</td>\n",
       "      <td>476779</td>\n",
       "      <td>22.428000</td>\n",
       "      <td>28.710</td>\n",
       "      <td>28.110</td>\n",
       "      <td>1.280</td>\n",
       "    </tr>\n",
       "    <tr>\n",
       "      <th>12</th>\n",
       "      <td>f1_fuel_1994_12_4_0_5</td>\n",
       "      <td>4</td>\n",
       "      <td>1994</td>\n",
       "      <td>unit 4</td>\n",
       "      <td>gas</td>\n",
       "      <td>mcf</td>\n",
       "      <td>6673</td>\n",
       "      <td>1.026000</td>\n",
       "      <td>1.940</td>\n",
       "      <td>1.940</td>\n",
       "      <td>1.900</td>\n",
       "    </tr>\n",
       "    <tr>\n",
       "      <th>13</th>\n",
       "      <td>f1_fuel_1994_12_6_0_1</td>\n",
       "      <td>6</td>\n",
       "      <td>1994</td>\n",
       "      <td>clinch river</td>\n",
       "      <td>coal</td>\n",
       "      <td>ton</td>\n",
       "      <td>1655558</td>\n",
       "      <td>25.038000</td>\n",
       "      <td>30.248</td>\n",
       "      <td>29.019</td>\n",
       "      <td>1.208</td>\n",
       "    </tr>\n",
       "    <tr>\n",
       "      <th>14</th>\n",
       "      <td>f1_fuel_1994_12_6_0_2</td>\n",
       "      <td>6</td>\n",
       "      <td>1994</td>\n",
       "      <td>clinch river</td>\n",
       "      <td>oil</td>\n",
       "      <td>bbl</td>\n",
       "      <td>6510</td>\n",
       "      <td>5.875338</td>\n",
       "      <td>32.130</td>\n",
       "      <td>23.444</td>\n",
       "      <td>5.469</td>\n",
       "    </tr>\n",
       "    <tr>\n",
       "      <th>15</th>\n",
       "      <td>f1_fuel_1994_12_6_0_4</td>\n",
       "      <td>6</td>\n",
       "      <td>1994</td>\n",
       "      <td>amos-apco share</td>\n",
       "      <td>coal</td>\n",
       "      <td>ton</td>\n",
       "      <td>3520831</td>\n",
       "      <td>24.508000</td>\n",
       "      <td>44.404</td>\n",
       "      <td>42.915</td>\n",
       "      <td>1.812</td>\n",
       "    </tr>\n",
       "    <tr>\n",
       "      <th>16</th>\n",
       "      <td>f1_fuel_1994_12_6_0_7</td>\n",
       "      <td>6</td>\n",
       "      <td>1994</td>\n",
       "      <td>amos-total</td>\n",
       "      <td>coal</td>\n",
       "      <td>ton</td>\n",
       "      <td>5327281</td>\n",
       "      <td>24.538000</td>\n",
       "      <td>44.312</td>\n",
       "      <td>42.940</td>\n",
       "      <td>1.806</td>\n",
       "    </tr>\n",
       "    <tr>\n",
       "      <th>17</th>\n",
       "      <td>f1_fuel_1994_12_6_0_10</td>\n",
       "      <td>6</td>\n",
       "      <td>1994</td>\n",
       "      <td>glen lyn</td>\n",
       "      <td>coal</td>\n",
       "      <td>ton</td>\n",
       "      <td>666975</td>\n",
       "      <td>25.836000</td>\n",
       "      <td>36.268</td>\n",
       "      <td>32.893</td>\n",
       "      <td>1.404</td>\n",
       "    </tr>\n",
       "    <tr>\n",
       "      <th>18</th>\n",
       "      <td>f1_fuel_1994_12_6_0_13</td>\n",
       "      <td>6</td>\n",
       "      <td>1994</td>\n",
       "      <td>kanawha river</td>\n",
       "      <td>coal</td>\n",
       "      <td>ton</td>\n",
       "      <td>391864</td>\n",
       "      <td>25.160000</td>\n",
       "      <td>46.024</td>\n",
       "      <td>42.034</td>\n",
       "      <td>1.829</td>\n",
       "    </tr>\n",
       "    <tr>\n",
       "      <th>19</th>\n",
       "      <td>f1_fuel_1994_12_6_0_14</td>\n",
       "      <td>6</td>\n",
       "      <td>1994</td>\n",
       "      <td>kanawha river</td>\n",
       "      <td>oil</td>\n",
       "      <td>bbl</td>\n",
       "      <td>3505</td>\n",
       "      <td>5.774958</td>\n",
       "      <td>33.321</td>\n",
       "      <td>26.280</td>\n",
       "      <td>5.770</td>\n",
       "    </tr>\n",
       "  </tbody>\n",
       "</table>\n",
       "</div>"
      ],
      "text/plain": [
       "                 record_id  utility_id_ferc1  report_year  \\\n",
       "0    f1_fuel_1994_12_1_0_7                 1         1994   \n",
       "1   f1_fuel_1994_12_1_0_10                 1         1994   \n",
       "2    f1_fuel_1994_12_2_0_1                 2         1994   \n",
       "3    f1_fuel_1994_12_2_0_7                 2         1994   \n",
       "4   f1_fuel_1994_12_2_0_10                 2         1994   \n",
       "5   f1_fuel_1994_12_2_0_13                 2         1994   \n",
       "6    f1_fuel_1994_12_2_1_1                 2         1994   \n",
       "7   f1_fuel_1994_12_2_1_10                 2         1994   \n",
       "8   f1_fuel_1994_12_2_2_10                 2         1994   \n",
       "9    f1_fuel_1994_12_4_0_1                 4         1994   \n",
       "10   f1_fuel_1994_12_4_0_2                 4         1994   \n",
       "11   f1_fuel_1994_12_4_0_4                 4         1994   \n",
       "12   f1_fuel_1994_12_4_0_5                 4         1994   \n",
       "13   f1_fuel_1994_12_6_0_1                 6         1994   \n",
       "14   f1_fuel_1994_12_6_0_2                 6         1994   \n",
       "15   f1_fuel_1994_12_6_0_4                 6         1994   \n",
       "16   f1_fuel_1994_12_6_0_7                 6         1994   \n",
       "17  f1_fuel_1994_12_6_0_10                 6         1994   \n",
       "18  f1_fuel_1994_12_6_0_13                 6         1994   \n",
       "19  f1_fuel_1994_12_6_0_14                 6         1994   \n",
       "\n",
       "        plant_name_ferc1 fuel_type_code_pudl fuel_unit  fuel_qty_burned  \\\n",
       "0               rockport                coal       ton          5377489   \n",
       "1   rockport total plant                coal       ton         10486945   \n",
       "2                 gorgas                coal       ton          2978683   \n",
       "3                  barry                coal       ton          3739484   \n",
       "4              chickasaw                 gas       mcf            40533   \n",
       "5    e. c. gaston-unit 5                coal       ton          2124933   \n",
       "6       joseph m. farley             nuclear       kgU             2260   \n",
       "7    resondent's portion                coal       ton          5372133   \n",
       "8   respondent's portion                coal       ton           817520   \n",
       "9              units 1-3                coal       ton          1471233   \n",
       "10             units 1-3                 gas       mcf           262720   \n",
       "11                unit 4                coal       ton           476779   \n",
       "12                unit 4                 gas       mcf             6673   \n",
       "13          clinch river                coal       ton          1655558   \n",
       "14          clinch river                 oil       bbl             6510   \n",
       "15       amos-apco share                coal       ton          3520831   \n",
       "16            amos-total                coal       ton          5327281   \n",
       "17              glen lyn                coal       ton           666975   \n",
       "18         kanawha river                coal       ton           391864   \n",
       "19         kanawha river                 oil       bbl             3505   \n",
       "\n",
       "    fuel_mmbtu_per_unit  fuel_cost_per_unit_burned  \\\n",
       "0             16.590000                     18.590   \n",
       "1             16.592000                     18.580   \n",
       "2             24.130000                     39.720   \n",
       "3             23.950000                     47.210   \n",
       "4              1.000000                      2.770   \n",
       "5             23.922000                     44.240   \n",
       "6              0.064094                     28.770   \n",
       "7             24.840000                     58.540   \n",
       "8             24.290000                     33.970   \n",
       "9             22.484000                     28.730   \n",
       "10             1.026000                      1.940   \n",
       "11            22.428000                     28.710   \n",
       "12             1.026000                      1.940   \n",
       "13            25.038000                     30.248   \n",
       "14             5.875338                     32.130   \n",
       "15            24.508000                     44.404   \n",
       "16            24.538000                     44.312   \n",
       "17            25.836000                     36.268   \n",
       "18            25.160000                     46.024   \n",
       "19             5.774958                     33.321   \n",
       "\n",
       "    fuel_cost_per_unit_delivered  fuel_cost_per_mmbtu  \n",
       "0                         18.530                1.121  \n",
       "1                         18.530                1.120  \n",
       "2                         38.120                1.650  \n",
       "3                         45.990                1.970  \n",
       "4                          2.770                2.570  \n",
       "5                         43.250                1.850  \n",
       "6                          0.000                0.450  \n",
       "7                         55.130                2.360  \n",
       "8                         34.650                1.400  \n",
       "9                         28.110                1.278  \n",
       "10                         1.940               13.900  \n",
       "11                        28.110                1.280  \n",
       "12                         1.940                1.900  \n",
       "13                        29.019                1.208  \n",
       "14                        23.444                5.469  \n",
       "15                        42.915                1.812  \n",
       "16                        42.940                1.806  \n",
       "17                        32.893                1.404  \n",
       "18                        42.034                1.829  \n",
       "19                        26.280                5.770  "
      ]
     },
     "execution_count": 11,
     "metadata": {},
     "output_type": "execute_result"
    }
   ],
   "source": [
    "# print the first 20 rows of the data, to be sure it has correctly loaded it.\n",
    "Fuel_Data.head(20)"
   ]
  },
  {
   "cell_type": "markdown",
   "metadata": {},
   "source": [
    "## **Question 1:** \n",
    "Given:  "
   ]
  },
  {
   "cell_type": "code",
   "execution_count": 50,
   "metadata": {},
   "outputs": [
    {
     "name": "stdout",
     "output_type": "stream",
     "text": [
      "The correct answer is A.extend(B) i.e  [1, 2, 3, 4, 5, 6, 113, 21, 34]\n"
     ]
    }
   ],
   "source": [
    "A = [1,2,3,4,5,6]\n",
    "B = [113,21,34]\n",
    "A.extend(B)\n",
    "print (\"The correct answer is A.extend(B) i.e \", A)"
   ]
  },
  {
   "cell_type": "markdown",
   "metadata": {},
   "source": [
    "## **Question 2:** \n",
    "We can create a 3 x 3 identity matrix using:"
   ]
  },
  {
   "cell_type": "code",
   "execution_count": 22,
   "metadata": {},
   "outputs": [
    {
     "data": {
      "text/plain": [
       "array([[1., 0., 0.],\n",
       "       [0., 1., 0.],\n",
       "       [0., 0., 1.]])"
      ]
     },
     "execution_count": 22,
     "metadata": {},
     "output_type": "execute_result"
    }
   ],
   "source": [
    "np.identity(3)"
   ]
  },
  {
   "cell_type": "markdown",
   "metadata": {},
   "source": [
    "## **Question 3:**  \n",
    "Fuel Cost Per Unit Burned can be generated for each fuel as"
   ]
  },
  {
   "cell_type": "code",
   "execution_count": 51,
   "metadata": {},
   "outputs": [
    {
     "data": {
      "text/plain": [
       "fuel_type_code_pudl\n",
       "gas          13.659397\n",
       "other        18.253856\n",
       "waste        19.518122\n",
       "coal         67.421830\n",
       "oil         168.877086\n",
       "nuclear    4955.157002\n",
       "Name: fuel_cost_per_unit_burned, dtype: float64"
      ]
     },
     "execution_count": 51,
     "metadata": {},
     "output_type": "execute_result"
    }
   ],
   "source": [
    "Fuel_Data.groupby('fuel_type_code_pudl')['fuel_cost_per_unit_burned'].mean().sort_values()"
   ]
  },
  {
   "cell_type": "markdown",
   "metadata": {},
   "source": [
    "The Fuel with the lowest Fuel Cost Per Unit Burned is **Gas**"
   ]
  },
  {
   "cell_type": "markdown",
   "metadata": {},
   "source": [
    "## **Question 4:** ### \n",
    "Both the standard deviation and the 75th percentile can be obtained from the description of the entire data"
   ]
  },
  {
   "cell_type": "code",
   "execution_count": 31,
   "metadata": {},
   "outputs": [
    {
     "data": {
      "text/html": [
       "<div>\n",
       "<style scoped>\n",
       "    .dataframe tbody tr th:only-of-type {\n",
       "        vertical-align: middle;\n",
       "    }\n",
       "\n",
       "    .dataframe tbody tr th {\n",
       "        vertical-align: top;\n",
       "    }\n",
       "\n",
       "    .dataframe thead th {\n",
       "        text-align: right;\n",
       "    }\n",
       "</style>\n",
       "<table border=\"1\" class=\"dataframe\">\n",
       "  <thead>\n",
       "    <tr style=\"text-align: right;\">\n",
       "      <th></th>\n",
       "      <th>utility_id_ferc1</th>\n",
       "      <th>report_year</th>\n",
       "      <th>fuel_qty_burned</th>\n",
       "      <th>fuel_mmbtu_per_unit</th>\n",
       "      <th>fuel_cost_per_unit_burned</th>\n",
       "      <th>fuel_cost_per_unit_delivered</th>\n",
       "      <th>fuel_cost_per_mmbtu</th>\n",
       "    </tr>\n",
       "  </thead>\n",
       "  <tbody>\n",
       "    <tr>\n",
       "      <th>count</th>\n",
       "      <td>29523.000000</td>\n",
       "      <td>29523.000000</td>\n",
       "      <td>2.952300e+04</td>\n",
       "      <td>29523.000000</td>\n",
       "      <td>29523.000000</td>\n",
       "      <td>2.952300e+04</td>\n",
       "      <td>29523.000000</td>\n",
       "    </tr>\n",
       "    <tr>\n",
       "      <th>mean</th>\n",
       "      <td>118.601836</td>\n",
       "      <td>2005.806050</td>\n",
       "      <td>2.622119e+06</td>\n",
       "      <td>8.492111</td>\n",
       "      <td>208.649031</td>\n",
       "      <td>9.175704e+02</td>\n",
       "      <td>19.304354</td>\n",
       "    </tr>\n",
       "    <tr>\n",
       "      <th>std</th>\n",
       "      <td>74.178353</td>\n",
       "      <td>7.025483</td>\n",
       "      <td>9.118004e+06</td>\n",
       "      <td>10.600220</td>\n",
       "      <td>2854.490090</td>\n",
       "      <td>6.877593e+04</td>\n",
       "      <td>2091.540939</td>\n",
       "    </tr>\n",
       "    <tr>\n",
       "      <th>min</th>\n",
       "      <td>1.000000</td>\n",
       "      <td>1994.000000</td>\n",
       "      <td>1.000000e+00</td>\n",
       "      <td>0.000001</td>\n",
       "      <td>-276.080000</td>\n",
       "      <td>-8.749370e+02</td>\n",
       "      <td>-41.501000</td>\n",
       "    </tr>\n",
       "    <tr>\n",
       "      <th>25%</th>\n",
       "      <td>55.000000</td>\n",
       "      <td>2000.000000</td>\n",
       "      <td>1.381700e+04</td>\n",
       "      <td>1.024000</td>\n",
       "      <td>5.207000</td>\n",
       "      <td>3.778500e+00</td>\n",
       "      <td>1.940000</td>\n",
       "    </tr>\n",
       "    <tr>\n",
       "      <th>50%</th>\n",
       "      <td>122.000000</td>\n",
       "      <td>2006.000000</td>\n",
       "      <td>2.533220e+05</td>\n",
       "      <td>5.762694</td>\n",
       "      <td>26.000000</td>\n",
       "      <td>1.737100e+01</td>\n",
       "      <td>4.127000</td>\n",
       "    </tr>\n",
       "    <tr>\n",
       "      <th>75%</th>\n",
       "      <td>176.000000</td>\n",
       "      <td>2012.000000</td>\n",
       "      <td>1.424034e+06</td>\n",
       "      <td>17.006000</td>\n",
       "      <td>47.113000</td>\n",
       "      <td>4.213700e+01</td>\n",
       "      <td>7.745000</td>\n",
       "    </tr>\n",
       "    <tr>\n",
       "      <th>max</th>\n",
       "      <td>514.000000</td>\n",
       "      <td>2018.000000</td>\n",
       "      <td>5.558942e+08</td>\n",
       "      <td>341.260000</td>\n",
       "      <td>139358.000000</td>\n",
       "      <td>7.964521e+06</td>\n",
       "      <td>359278.000000</td>\n",
       "    </tr>\n",
       "  </tbody>\n",
       "</table>\n",
       "</div>"
      ],
      "text/plain": [
       "       utility_id_ferc1   report_year  fuel_qty_burned  fuel_mmbtu_per_unit  \\\n",
       "count      29523.000000  29523.000000     2.952300e+04         29523.000000   \n",
       "mean         118.601836   2005.806050     2.622119e+06             8.492111   \n",
       "std           74.178353      7.025483     9.118004e+06            10.600220   \n",
       "min            1.000000   1994.000000     1.000000e+00             0.000001   \n",
       "25%           55.000000   2000.000000     1.381700e+04             1.024000   \n",
       "50%          122.000000   2006.000000     2.533220e+05             5.762694   \n",
       "75%          176.000000   2012.000000     1.424034e+06            17.006000   \n",
       "max          514.000000   2018.000000     5.558942e+08           341.260000   \n",
       "\n",
       "       fuel_cost_per_unit_burned  fuel_cost_per_unit_delivered  \\\n",
       "count               29523.000000                  2.952300e+04   \n",
       "mean                  208.649031                  9.175704e+02   \n",
       "std                  2854.490090                  6.877593e+04   \n",
       "min                  -276.080000                 -8.749370e+02   \n",
       "25%                     5.207000                  3.778500e+00   \n",
       "50%                    26.000000                  1.737100e+01   \n",
       "75%                    47.113000                  4.213700e+01   \n",
       "max                139358.000000                  7.964521e+06   \n",
       "\n",
       "       fuel_cost_per_mmbtu  \n",
       "count         29523.000000  \n",
       "mean             19.304354  \n",
       "std            2091.540939  \n",
       "min             -41.501000  \n",
       "25%               1.940000  \n",
       "50%               4.127000  \n",
       "75%               7.745000  \n",
       "max          359278.000000  "
      ]
     },
     "execution_count": 31,
     "metadata": {},
     "output_type": "execute_result"
    }
   ],
   "source": [
    "Fuel_Data.describe() #The solution is in the appropriate column and rows"
   ]
  },
  {
   "cell_type": "markdown",
   "metadata": {},
   "source": [
    "Or by describing only the column of interest (fuel mmbtu per unit)"
   ]
  },
  {
   "cell_type": "code",
   "execution_count": 32,
   "metadata": {},
   "outputs": [
    {
     "data": {
      "text/plain": [
       "count    29523.000000\n",
       "mean         8.492111\n",
       "std         10.600220\n",
       "min          0.000001\n",
       "25%          1.024000\n",
       "50%          5.762694\n",
       "75%         17.006000\n",
       "max        341.260000\n",
       "Name: fuel_mmbtu_per_unit, dtype: float64"
      ]
     },
     "execution_count": 32,
     "metadata": {},
     "output_type": "execute_result"
    }
   ],
   "source": [
    "Fuel_Data['fuel_mmbtu_per_unit'].describe() # We can also describe only the column of interest. "
   ]
  },
  {
   "cell_type": "markdown",
   "metadata": {},
   "source": [
    " **Standard deviation =  10.60022**;\n",
    " \n",
    " **75th Percentile  =  17.006**"
   ]
  },
  {
   "cell_type": "markdown",
   "metadata": {},
   "source": [
    "## **Question 5:** \n",
    "\n",
    "Skewness OF Fuel Quantity Burned "
   ]
  },
  {
   "cell_type": "code",
   "execution_count": 33,
   "metadata": {},
   "outputs": [
    {
     "data": {
      "text/plain": [
       "15.851495469109503"
      ]
     },
     "execution_count": 33,
     "metadata": {},
     "output_type": "execute_result"
    }
   ],
   "source": [
    "Fuel_Data['fuel_qty_burned'].skew()\n"
   ]
  },
  {
   "cell_type": "markdown",
   "metadata": {},
   "source": [
    "Kurtosis for Fuel Quantity Burned "
   ]
  },
  {
   "cell_type": "code",
   "execution_count": 34,
   "metadata": {},
   "outputs": [
    {
     "data": {
      "text/plain": [
       "651.3694501337732"
      ]
     },
     "execution_count": 34,
     "metadata": {},
     "output_type": "execute_result"
    }
   ],
   "source": [
    "Fuel_Data['fuel_qty_burned'].kurt()"
   ]
  },
  {
   "cell_type": "markdown",
   "metadata": {},
   "source": [
    "## **Question 6:**\n",
    "Checking for missing Data"
   ]
  },
  {
   "cell_type": "code",
   "execution_count": 40,
   "metadata": {},
   "outputs": [
    {
     "data": {
      "text/plain": [
       "record_id                         0\n",
       "utility_id_ferc1                  0\n",
       "report_year                       0\n",
       "plant_name_ferc1                  0\n",
       "fuel_type_code_pudl               0\n",
       "fuel_unit                       180\n",
       "fuel_qty_burned                   0\n",
       "fuel_mmbtu_per_unit               0\n",
       "fuel_cost_per_unit_burned         0\n",
       "fuel_cost_per_unit_delivered      0\n",
       "fuel_cost_per_mmbtu               0\n",
       "dtype: int64"
      ]
     },
     "execution_count": 40,
     "metadata": {},
     "output_type": "execute_result"
    }
   ],
   "source": [
    "Fuel_Data.isnull().sum()"
   ]
  },
  {
   "cell_type": "markdown",
   "metadata": {},
   "source": [
    "Feature = fuel_unit"
   ]
  },
  {
   "cell_type": "code",
   "execution_count": 56,
   "metadata": {},
   "outputs": [],
   "source": [
    "#Total number of data\n",
    "Total = Fuel_Data['fuel_unit'].count()"
   ]
  },
  {
   "cell_type": "code",
   "execution_count": 54,
   "metadata": {},
   "outputs": [],
   "source": [
    "# Number of Missing Data \n",
    "Missing = Fuel_Data['fuel_unit'].isnull().sum()"
   ]
  },
  {
   "cell_type": "code",
   "execution_count": 58,
   "metadata": {},
   "outputs": [
    {
     "name": "stdout",
     "output_type": "stream",
     "text": [
      "0.6134342091810653\n"
     ]
    }
   ],
   "source": [
    "# Percentage\n",
    "\n",
    "Percent = (Missing/Total)*100\n",
    "print(Percent)\n"
   ]
  },
  {
   "cell_type": "code",
   "execution_count": null,
   "metadata": {},
   "outputs": [],
   "source": [
    "# using the isnull function to capture the null values and use the sum function to know the total number of the null values\n",
    "null = fuel_data['fuel_unit'].isnull().sum()\n",
    "\n",
    "#using the count function on the record id feature to know the total number of rows\n",
    "total_value = fuel_data['record_id'].count()\n",
    "total_value1 = fuel_data['fuel_unit'].count()\n",
    "\n",
    "#using the total rows in the dataset\n",
    "#checking the percentage of missing values to the total number of rows\n",
    "percentage = (null/total_value) * 100\n",
    "percentage"
   ]
  },
  {
   "cell_type": "markdown",
   "metadata": {},
   "source": [
    "## **Question 7:**\n",
    "The feature with missing values falls under: \n",
    "\n",
    "**Categorical and mode imputation**"
   ]
  },
  {
   "cell_type": "markdown",
   "metadata": {},
   "source": [
    "## **Question 8:**\n",
    "The second and third lowest correlation with the Fuel Cost Per Unit Burned are: "
   ]
  },
  {
   "cell_type": "code",
   "execution_count": 62,
   "metadata": {},
   "outputs": [
    {
     "data": {
      "text/plain": [
       "fuel_cost_per_mmbtu             0.000437\n",
       "fuel_mmbtu_per_unit             0.010034\n",
       "fuel_cost_per_unit_delivered    0.011007\n",
       "report_year                     0.013599\n",
       "fuel_qty_burned                 0.018535\n",
       "utility_id_ferc1                0.037863\n",
       "fuel_cost_per_unit_burned       1.000000\n",
       "Name: fuel_cost_per_unit_burned, dtype: float64"
      ]
     },
     "execution_count": 62,
     "metadata": {},
     "output_type": "execute_result"
    }
   ],
   "source": [
    "Fuel_Data.corr().loc['fuel_cost_per_unit_burned'].abs().sort_values()"
   ]
  },
  {
   "cell_type": "markdown",
   "metadata": {},
   "source": [
    "## **Question 9:**"
   ]
  },
  {
   "cell_type": "code",
   "execution_count": null,
   "metadata": {},
   "outputs": [],
   "source": []
  },
  {
   "cell_type": "markdown",
   "metadata": {},
   "source": [
    "## **Question 10:**\n",
    "Year with the highest fuel cost per unit delivered"
   ]
  },
  {
   "cell_type": "code",
   "execution_count": 61,
   "metadata": {},
   "outputs": [
    {
     "data": {
      "text/plain": [
       "report_year\n",
       "1999       25.551627\n",
       "1995       32.735269\n",
       "2006       38.657484\n",
       "2005       41.438184\n",
       "2007       43.325023\n",
       "2017       46.196861\n",
       "2002       47.594361\n",
       "2003       55.663493\n",
       "2008       58.588197\n",
       "2011       59.774667\n",
       "2001       60.050396\n",
       "2012       60.994502\n",
       "1994       63.636060\n",
       "2010       91.862105\n",
       "2016      103.901761\n",
       "2004      139.524275\n",
       "2013      172.307591\n",
       "2014      192.737183\n",
       "1998      287.154420\n",
       "2015      326.535511\n",
       "2018      499.269966\n",
       "2009      652.694163\n",
       "2000      985.362877\n",
       "1996     9196.705948\n",
       "1997    11140.197239\n",
       "Name: fuel_cost_per_unit_delivered, dtype: float64"
      ]
     },
     "execution_count": 61,
     "metadata": {},
     "output_type": "execute_result"
    }
   ],
   "source": [
    "Fuel_Data.groupby('report_year')['fuel_cost_per_unit_delivered'].mean().sort_values(ascending=True)"
   ]
  },
  {
   "cell_type": "code",
   "execution_count": null,
   "metadata": {},
   "outputs": [],
   "source": []
  }
 ],
 "metadata": {
  "kernelspec": {
   "display_name": "Python 3",
   "language": "python",
   "name": "python3"
  },
  "language_info": {
   "codemirror_mode": {
    "name": "ipython",
    "version": 3
   },
   "file_extension": ".py",
   "mimetype": "text/x-python",
   "name": "python",
   "nbconvert_exporter": "python",
   "pygments_lexer": "ipython3",
   "version": "3.7.6"
  }
 },
 "nbformat": 4,
 "nbformat_minor": 4
}
